{
 "cells": [
  {
   "cell_type": "markdown",
   "metadata": {},
   "source": [
    "# Building a recommender system"
   ]
  },
  {
   "cell_type": "markdown",
   "metadata": {},
   "source": [
    "Using Surprise library (https://github.com/NicolasHug/Surprise)\n",
    "and the builtin dataset movielens-100k (https://grouplens.org/datasets/movielens/)\n",
    "\n",
    "100,000 ratings (1-5) from 943 users on 1682 movies\n",
    "\n",
    "features are explicit (ratings,etc) not implicit (wishlist,etc)\n",
    "The library supports collaborating filtering (CF) only, and not content-based methods.\n",
    "Therefore there is no need to know the charasterics of items or users, only the crowd behaviour is necessary.\n",
    "\n",
    "<pre>\n",
    "Recommender System types:\n",
    "1-Content-based filtering\n",
    "2-Collaborative filtering\n",
    "    a)Model-based\n",
    "        Neural Nets, Matrix Factorization, SVD\n",
    "    b)Memory-based\n",
    "        (!)User-based\n",
    "        (!!)Item-based\n",
    "3-hybrid filtering\n",
    "</pre>"
   ]
  },
  {
   "cell_type": "code",
   "execution_count": 3,
   "metadata": {},
   "outputs": [],
   "source": [
    "from surprise import Dataset\n",
    "from surprise.model_selection import cross_validate\n",
    "from surprise import accuracy\n",
    "from surprise.model_selection import train_test_split\n",
    "from surprise.model_selection import GridSearchCV\n",
    "from surprise import SVD\n",
    "\n",
    "\n",
    "# Load the movielens-100k dataset (download it if needed),\n",
    "data = Dataset.load_builtin('ml-100k')"
   ]
  },
  {
   "cell_type": "code",
   "execution_count": 4,
   "metadata": {},
   "outputs": [
    {
     "name": "stdout",
     "output_type": "stream",
     "text": [
      "0.9392085892450517\n",
      "{'n_factors': 100, 'lr_all': 0.005, 'reg_all': 0.04}\n"
     ]
    }
   ],
   "source": [
    "#finding the best parameter values for the algorithm\n",
    "param_grid = {'n_factors': [50,100],\n",
    "              'lr_all': [0.003, 0.004, 0.005],\n",
    "              'reg_all': [0.04, 0.4, 0.6]}\n",
    "gs = GridSearchCV(SVD, param_grid, measures=['rmse', 'mae'], cv=3)\n",
    "\n",
    "gs.fit(data)\n",
    "\n",
    "print(gs.best_score['rmse'])\n",
    "print(gs.best_params['rmse'])"
   ]
  },
  {
   "cell_type": "markdown",
   "metadata": {},
   "source": [
    "# Split the data to train and test datasets and build the model"
   ]
  },
  {
   "cell_type": "code",
   "execution_count": 5,
   "metadata": {},
   "outputs": [
    {
     "name": "stdout",
     "output_type": "stream",
     "text": [
      "RMSE: 0.9369\n"
     ]
    },
    {
     "data": {
      "text/plain": [
       "0.9369290780020654"
      ]
     },
     "execution_count": 5,
     "metadata": {},
     "output_type": "execute_result"
    }
   ],
   "source": [
    "trainset, testset = train_test_split(data, test_size=.25)\n",
    "\n",
    "# using SVD algorithm.It makes latent features for items and users and factorize the matrix into two matrices.\n",
    "algo = SVD(n_factors= 100, lr_all= 0.005, reg_all= 0.04)\n",
    "\n",
    "algo.fit(trainset)\n",
    "predictions = algo.test(testset)\n",
    "\n",
    "accuracy.rmse(predictions)"
   ]
  },
  {
   "cell_type": "code",
   "execution_count": 6,
   "metadata": {},
   "outputs": [
    {
     "name": "stdout",
     "output_type": "stream",
     "text": [
      "user: 160        item: 207        r_ui = None   est = 4.30   {'was_impossible': False}\n"
     ]
    }
   ],
   "source": [
    "#using the prediction model\n",
    "uid = str(160)  # user id \n",
    "iid = str(207)  # item id\n",
    "\n",
    "# get a prediction for specific users and items.\n",
    "pred = algo.predict(uid, iid, verbose=True)"
   ]
  },
  {
   "cell_type": "code",
   "execution_count": null,
   "metadata": {},
   "outputs": [],
   "source": []
  },
  {
   "cell_type": "code",
   "execution_count": null,
   "metadata": {},
   "outputs": [],
   "source": []
  }
 ],
 "metadata": {
  "kernelspec": {
   "display_name": "Python 3",
   "language": "python",
   "name": "python3"
  },
  "language_info": {
   "codemirror_mode": {
    "name": "ipython",
    "version": 3
   },
   "file_extension": ".py",
   "mimetype": "text/x-python",
   "name": "python",
   "nbconvert_exporter": "python",
   "pygments_lexer": "ipython3",
   "version": "3.8.5"
  }
 },
 "nbformat": 4,
 "nbformat_minor": 4
}
